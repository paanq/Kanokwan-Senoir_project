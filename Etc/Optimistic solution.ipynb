{
 "cells": [
  {
   "cell_type": "code",
   "execution_count": 1,
   "metadata": {},
   "outputs": [],
   "source": [
    "import numpy as np\n",
    "from scipy.optimize import linprog\n",
    "from itertools import combinations\n",
    "from colorama import Fore, Back, Style"
   ]
  },
  {
   "cell_type": "code",
   "execution_count": 2,
   "metadata": {},
   "outputs": [],
   "source": [
    "def all_diag_combination(dim):\n",
    "    possible_combination = set(combinations([-1, 1] * dim ,dim))\n",
    "    return list(np.diag(item) for item in possible_combination)"
   ]
  },
  {
   "cell_type": "code",
   "execution_count": 3,
   "metadata": {},
   "outputs": [
    {
     "name": "stdout",
     "output_type": "stream",
     "text": [
      "Enter M: 2\n",
      "Enter N: 2\n"
     ]
    }
   ],
   "source": [
    "dim = int(input(\"Enter M: \"))\n",
    "din = int(input(\"Enter N: \"))"
   ]
  },
  {
   "cell_type": "code",
   "execution_count": 4,
   "metadata": {},
   "outputs": [
    {
     "name": "stdout",
     "output_type": "stream",
     "text": [
      "Enter Matrix A :\n",
      "Enter 2 numbers (with a comma in between): 4,6\n",
      "Enter 2 numbers (with a comma in between): -8,-6\n",
      "Enter 2 numbers (with a comma in between): 9,11\n",
      "Enter 2 numbers (with a comma in between): 11,13\n",
      "Center matrix of A = [[5.0, -7.0], [10.0, 12.0]]\n",
      "Upper bound matrix of A = [[6.0, -6.0], [11.0, 13.0]]\n",
      "Radius matrix of A = [[1.0, 1.0], [1.0, 1.0]] \n",
      "\n",
      "Enter Matrix B :\n",
      "Enter 2 numbers (with a comma in between): -10,-8\n",
      "Enter 2 numbers (with a comma in between): 19,21\n",
      "Center matrix of B = [-9.0, 20.0]\n",
      "Lower bound matrix of B = [-10.0, 19.0]\n",
      "Radius matrix of B = [1.0, 1.0] \n",
      "\n",
      "Enter Matrix C :\n",
      "Enter number1\n",
      "Enter number3\n",
      "Matrix C = [1.0, 3.0]\n"
     ]
    }
   ],
   "source": [
    "################################# input matrix A ################################\n",
    "\n",
    "print(\"Enter Matrix A :\")\n",
    "Ac = []\n",
    "Au = []\n",
    "delta = []\n",
    "for m in range(dim):\n",
    "    Ac_1 = []\n",
    "    Au_1 = []\n",
    "    delta_1 = []\n",
    "    for n in range(din):\n",
    "        value_A = input(\"Enter 2 numbers (with a comma in between): \")\n",
    "        a, b = value_A.split(',')\n",
    "        a, b = float(a), float(b)\n",
    "        Ac_1.append((a+b)*0.5)\n",
    "        Au_1.append(b)\n",
    "        delta_1.append((b-a)*0.5)\n",
    "    Ac.append(Ac_1)\n",
    "    Au.append(Au_1)\n",
    "    delta.append(delta_1)\n",
    "    \n",
    "print(\"Center matrix of A =\", Ac)\n",
    "print(\"Upper bound matrix of A =\", Au)\n",
    "print(\"Radius matrix of A =\", delta, '\\n')\n",
    "\n",
    "################################# input matrix B ################################\n",
    "\n",
    "print(\"Enter Matrix B :\")\n",
    "Bc = []\n",
    "Bl = []\n",
    "tuda = []\n",
    "for m in range(dim):\n",
    "    value_B = input(\"Enter 2 numbers (with a comma in between): \")\n",
    "    c, d = value_B.split(',')\n",
    "    c, d = float(c), float(d)\n",
    "    Bc.append((c+d)*0.5)\n",
    "    Bl.append(c)\n",
    "    tuda.append((d-c)*0.5)\n",
    "    \n",
    "print(\"Center matrix of B =\", Bc)\n",
    "print(\"Lower bound matrix of B =\", Bl)\n",
    "print('Radius matrix of B =', tuda, '\\n')\n",
    "\n",
    "################################# input matrix C ################################\n",
    "\n",
    "print(\"Enter Matrix C :\")\n",
    "C = []\n",
    "for r in range(din):\n",
    "    value_C = float(input(\"Enter number\"))\n",
    "    C.append(value_C)\n",
    "    \n",
    "print(\"Matrix C =\", C)"
   ]
  },
  {
   "cell_type": "code",
   "execution_count": 5,
   "metadata": {
    "scrolled": true
   },
   "outputs": [
    {
     "ename": "ValueError",
     "evalue": "Invalid input for linprog: unable to interpret bounds with this dimension tuple: (4, 2).",
     "output_type": "error",
     "traceback": [
      "\u001b[1;31m---------------------------------------------------------------------------\u001b[0m",
      "\u001b[1;31mValueError\u001b[0m                                Traceback (most recent call last)",
      "\u001b[1;32m<ipython-input-5-49bea9e9dfd4>\u001b[0m in \u001b[0;36m<module>\u001b[1;34m\u001b[0m\n\u001b[0;32m      8\u001b[0m         \u001b[0mBy\u001b[0m \u001b[1;33m=\u001b[0m \u001b[0mBc\u001b[0m \u001b[1;33m+\u001b[0m \u001b[1;33m(\u001b[0m\u001b[0mall_diag_combination\u001b[0m\u001b[1;33m(\u001b[0m\u001b[0mdim\u001b[0m\u001b[1;33m)\u001b[0m\u001b[1;33m[\u001b[0m\u001b[0mr\u001b[0m\u001b[1;33m]\u001b[0m\u001b[1;33m)\u001b[0m\u001b[1;33m.\u001b[0m\u001b[0mdot\u001b[0m\u001b[1;33m(\u001b[0m\u001b[0mtuda\u001b[0m\u001b[1;33m/\u001b[0m\u001b[1;33m(\u001b[0m\u001b[0mnp\u001b[0m\u001b[1;33m.\u001b[0m\u001b[0mones\u001b[0m\u001b[1;33m(\u001b[0m\u001b[1;33m(\u001b[0m\u001b[0mdim\u001b[0m\u001b[1;33m)\u001b[0m\u001b[1;33m)\u001b[0m\u001b[1;33m*\u001b[0m\u001b[1;36m10\u001b[0m\u001b[1;33m)\u001b[0m\u001b[1;33m*\u001b[0m\u001b[1;33m(\u001b[0m\u001b[0mnp\u001b[0m\u001b[1;33m.\u001b[0m\u001b[0mones\u001b[0m\u001b[1;33m(\u001b[0m\u001b[1;33m(\u001b[0m\u001b[0mdim\u001b[0m\u001b[1;33m)\u001b[0m\u001b[1;33m)\u001b[0m\u001b[1;33m*\u001b[0m\u001b[0mj\u001b[0m\u001b[1;33m)\u001b[0m\u001b[1;33m)\u001b[0m\u001b[1;33m\u001b[0m\u001b[1;33m\u001b[0m\u001b[0m\n\u001b[0;32m      9\u001b[0m         \u001b[0mbnd\u001b[0m \u001b[1;33m=\u001b[0m \u001b[1;33m[\u001b[0m\u001b[1;33m(\u001b[0m\u001b[1;36m0\u001b[0m\u001b[1;33m,\u001b[0m \u001b[0mfloat\u001b[0m\u001b[1;33m(\u001b[0m\u001b[1;34m\"inf\"\u001b[0m\u001b[1;33m)\u001b[0m\u001b[1;33m)\u001b[0m\u001b[1;33m,\u001b[0m \u001b[1;33m(\u001b[0m\u001b[1;36m0\u001b[0m\u001b[1;33m,\u001b[0m \u001b[0mfloat\u001b[0m\u001b[1;33m(\u001b[0m\u001b[1;34m\"inf\"\u001b[0m\u001b[1;33m)\u001b[0m\u001b[1;33m)\u001b[0m\u001b[1;33m,\u001b[0m \u001b[1;33m(\u001b[0m\u001b[1;36m0\u001b[0m\u001b[1;33m,\u001b[0m \u001b[0mfloat\u001b[0m\u001b[1;33m(\u001b[0m\u001b[1;34m\"inf\"\u001b[0m\u001b[1;33m)\u001b[0m\u001b[1;33m)\u001b[0m\u001b[1;33m,\u001b[0m \u001b[1;33m(\u001b[0m\u001b[1;36m0\u001b[0m\u001b[1;33m,\u001b[0m \u001b[0mfloat\u001b[0m\u001b[1;33m(\u001b[0m\u001b[1;34m\"inf\"\u001b[0m\u001b[1;33m)\u001b[0m\u001b[1;33m)\u001b[0m\u001b[1;33m]\u001b[0m\u001b[1;33m\u001b[0m\u001b[1;33m\u001b[0m\u001b[0m\n\u001b[1;32m---> 10\u001b[1;33m         \u001b[0mRes\u001b[0m \u001b[1;33m=\u001b[0m \u001b[0mlinprog\u001b[0m\u001b[1;33m(\u001b[0m\u001b[0mc\u001b[0m\u001b[1;33m=\u001b[0m\u001b[0mC\u001b[0m\u001b[1;33m,\u001b[0m \u001b[0mA_eq\u001b[0m\u001b[1;33m=\u001b[0m\u001b[0maye\u001b[0m\u001b[1;33m,\u001b[0m \u001b[0mb_eq\u001b[0m\u001b[1;33m=\u001b[0m\u001b[0mBy\u001b[0m\u001b[1;33m,\u001b[0m \u001b[0mbounds\u001b[0m\u001b[1;33m=\u001b[0m\u001b[0mbnd\u001b[0m\u001b[1;33m,\u001b[0m \u001b[0mmethod\u001b[0m\u001b[1;33m=\u001b[0m\u001b[1;34m\"revised simplex\"\u001b[0m\u001b[1;33m)\u001b[0m\u001b[1;33m\u001b[0m\u001b[1;33m\u001b[0m\u001b[0m\n\u001b[0m\u001b[0;32m     11\u001b[0m         \u001b[0mStatus\u001b[0m\u001b[1;33m.\u001b[0m\u001b[0mappend\u001b[0m\u001b[1;33m(\u001b[0m\u001b[0mRes\u001b[0m\u001b[1;33m[\u001b[0m\u001b[1;34m'status'\u001b[0m\u001b[1;33m]\u001b[0m\u001b[1;33m)\u001b[0m\u001b[1;33m\u001b[0m\u001b[1;33m\u001b[0m\u001b[0m\n\u001b[0;32m     12\u001b[0m         \u001b[0mFun\u001b[0m\u001b[1;33m.\u001b[0m\u001b[0mappend\u001b[0m\u001b[1;33m(\u001b[0m\u001b[0mRes\u001b[0m\u001b[1;33m[\u001b[0m\u001b[1;34m'fun'\u001b[0m\u001b[1;33m]\u001b[0m\u001b[1;33m)\u001b[0m\u001b[1;33m\u001b[0m\u001b[1;33m\u001b[0m\u001b[0m\n",
      "\u001b[1;32mD:\\Program Files\\Anaconda\\lib\\site-packages\\scipy\\optimize\\_linprog.py\u001b[0m in \u001b[0;36mlinprog\u001b[1;34m(c, A_ub, b_ub, A_eq, b_eq, bounds, method, callback, options, x0)\u001b[0m\n\u001b[0;32m    513\u001b[0m \u001b[1;33m\u001b[0m\u001b[0m\n\u001b[0;32m    514\u001b[0m     \u001b[0mlp\u001b[0m \u001b[1;33m=\u001b[0m \u001b[0m_LPProblem\u001b[0m\u001b[1;33m(\u001b[0m\u001b[0mc\u001b[0m\u001b[1;33m,\u001b[0m \u001b[0mA_ub\u001b[0m\u001b[1;33m,\u001b[0m \u001b[0mb_ub\u001b[0m\u001b[1;33m,\u001b[0m \u001b[0mA_eq\u001b[0m\u001b[1;33m,\u001b[0m \u001b[0mb_eq\u001b[0m\u001b[1;33m,\u001b[0m \u001b[0mbounds\u001b[0m\u001b[1;33m,\u001b[0m \u001b[0mx0\u001b[0m\u001b[1;33m)\u001b[0m\u001b[1;33m\u001b[0m\u001b[1;33m\u001b[0m\u001b[0m\n\u001b[1;32m--> 515\u001b[1;33m     \u001b[0mlp\u001b[0m\u001b[1;33m,\u001b[0m \u001b[0msolver_options\u001b[0m \u001b[1;33m=\u001b[0m \u001b[0m_parse_linprog\u001b[0m\u001b[1;33m(\u001b[0m\u001b[0mlp\u001b[0m\u001b[1;33m,\u001b[0m \u001b[0moptions\u001b[0m\u001b[1;33m)\u001b[0m\u001b[1;33m\u001b[0m\u001b[1;33m\u001b[0m\u001b[0m\n\u001b[0m\u001b[0;32m    516\u001b[0m     \u001b[0mtol\u001b[0m \u001b[1;33m=\u001b[0m \u001b[0msolver_options\u001b[0m\u001b[1;33m.\u001b[0m\u001b[0mget\u001b[0m\u001b[1;33m(\u001b[0m\u001b[1;34m'tol'\u001b[0m\u001b[1;33m,\u001b[0m \u001b[1;36m1e-9\u001b[0m\u001b[1;33m)\u001b[0m\u001b[1;33m\u001b[0m\u001b[1;33m\u001b[0m\u001b[0m\n\u001b[0;32m    517\u001b[0m \u001b[1;33m\u001b[0m\u001b[0m\n",
      "\u001b[1;32mD:\\Program Files\\Anaconda\\lib\\site-packages\\scipy\\optimize\\_linprog_util.py\u001b[0m in \u001b[0;36m_parse_linprog\u001b[1;34m(lp, options)\u001b[0m\n\u001b[0;32m    932\u001b[0m     \u001b[0msolver_options\u001b[0m\u001b[1;33m,\u001b[0m \u001b[0mA_ub\u001b[0m\u001b[1;33m,\u001b[0m \u001b[0mA_eq\u001b[0m \u001b[1;33m=\u001b[0m \u001b[0m_check_sparse_inputs\u001b[0m\u001b[1;33m(\u001b[0m\u001b[0msolver_options\u001b[0m\u001b[1;33m,\u001b[0m \u001b[0mlp\u001b[0m\u001b[1;33m.\u001b[0m\u001b[0mA_ub\u001b[0m\u001b[1;33m,\u001b[0m \u001b[0mlp\u001b[0m\u001b[1;33m.\u001b[0m\u001b[0mA_eq\u001b[0m\u001b[1;33m)\u001b[0m\u001b[1;33m\u001b[0m\u001b[1;33m\u001b[0m\u001b[0m\n\u001b[0;32m    933\u001b[0m     \u001b[1;31m# Convert lists to numpy arrays, etc...\u001b[0m\u001b[1;33m\u001b[0m\u001b[1;33m\u001b[0m\u001b[1;33m\u001b[0m\u001b[0m\n\u001b[1;32m--> 934\u001b[1;33m     \u001b[0mlp\u001b[0m \u001b[1;33m=\u001b[0m \u001b[0m_clean_inputs\u001b[0m\u001b[1;33m(\u001b[0m\u001b[0mlp\u001b[0m\u001b[1;33m.\u001b[0m\u001b[0m_replace\u001b[0m\u001b[1;33m(\u001b[0m\u001b[0mA_ub\u001b[0m\u001b[1;33m=\u001b[0m\u001b[0mA_ub\u001b[0m\u001b[1;33m,\u001b[0m \u001b[0mA_eq\u001b[0m\u001b[1;33m=\u001b[0m\u001b[0mA_eq\u001b[0m\u001b[1;33m)\u001b[0m\u001b[1;33m)\u001b[0m\u001b[1;33m\u001b[0m\u001b[1;33m\u001b[0m\u001b[0m\n\u001b[0m\u001b[0;32m    935\u001b[0m     \u001b[1;32mreturn\u001b[0m \u001b[0mlp\u001b[0m\u001b[1;33m,\u001b[0m \u001b[0msolver_options\u001b[0m\u001b[1;33m\u001b[0m\u001b[1;33m\u001b[0m\u001b[0m\n\u001b[0;32m    936\u001b[0m \u001b[1;33m\u001b[0m\u001b[0m\n",
      "\u001b[1;32mD:\\Program Files\\Anaconda\\lib\\site-packages\\scipy\\optimize\\_linprog_util.py\u001b[0m in \u001b[0;36m_clean_inputs\u001b[1;34m(lp)\u001b[0m\n\u001b[0;32m    428\u001b[0m         raise ValueError(\n\u001b[0;32m    429\u001b[0m             \u001b[1;34m\"Invalid input for linprog: unable to interpret bounds with this \"\u001b[0m\u001b[1;33m\u001b[0m\u001b[1;33m\u001b[0m\u001b[0m\n\u001b[1;32m--> 430\u001b[1;33m             \"dimension tuple: {0}.\".format(bsh))\n\u001b[0m\u001b[0;32m    431\u001b[0m \u001b[1;33m\u001b[0m\u001b[0m\n\u001b[0;32m    432\u001b[0m     \u001b[1;31m# The process above creates nan-s where the input specified None\u001b[0m\u001b[1;33m\u001b[0m\u001b[1;33m\u001b[0m\u001b[1;33m\u001b[0m\u001b[0m\n",
      "\u001b[1;31mValueError\u001b[0m: Invalid input for linprog: unable to interpret bounds with this dimension tuple: (4, 2)."
     ]
    }
   ],
   "source": [
    "for j in range(10):\n",
    "    Status = []\n",
    "    Fun = []\n",
    "    for r in range(din):\n",
    "        Res1 = []      \n",
    "        aye = Ac - (all_diag_combination(dim)[r]).dot(delta/(np.ones((dim,din))*10)*(np.ones((dim,din))*j))\n",
    "        aye = np.array(aye)\n",
    "        By = Bc + (all_diag_combination(dim)[r]).dot(tuda/(np.ones((dim))*10)*(np.ones((dim))*j))\n",
    "        bnd = [(0, float(\"inf\")), (0, float(\"inf\")), (0, float(\"inf\")), (0, float(\"inf\"))]\n",
    "        Res = linprog(c=C, A_eq=aye, b_eq=By, bounds=bnd, method=\"revised simplex\")\n",
    "        Status.append(Res['status'])\n",
    "        Fun.append(Res['fun'])\n",
    "    print('j =', j)\n",
    "    if 1 in Status:\n",
    "        print('Iteration limit reached')\n",
    "    elif 2 in Status:\n",
    "        print('Lower Bound:', 'Problem appears to be infeasible')\n",
    "    elif 3 in Status:\n",
    "        print('Lower Bound:', 'Problem appears to be unbounded')\n",
    "    elif 4 in Status:\n",
    "        print('Numerical difficulties encountered')\n",
    "    elif 5 in Status:\n",
    "        print('No constraints; turn presolve on')\n",
    "    elif 6 in Status:\n",
    "        print('Guess x0 cannot be converted to a basic feasible solution')\n",
    "    else:\n",
    "        print(Fun)\n",
    "        print('Upper bound is', '%.4f' %max(Fun), '\\n')"
   ]
  },
  {
   "cell_type": "code",
   "execution_count": null,
   "metadata": {},
   "outputs": [],
   "source": [
    "for r in range(din):\n",
    "    k = Ac - (all_diag_combination(dim)[r]).dot(delta/(np.ones((dim,din))*10)*(np.ones((dim,din))*10*2))\n",
    "    l = Bc + (all_diag_combination(dim)[r]).dot(tuda/(np.ones((dim))*10))\n",
    "    print(k)\n",
    "    print(l)"
   ]
  }
 ],
 "metadata": {
  "kernelspec": {
   "display_name": "Python 3",
   "language": "python",
   "name": "python3"
  },
  "language_info": {
   "codemirror_mode": {
    "name": "ipython",
    "version": 3
   },
   "file_extension": ".py",
   "mimetype": "text/x-python",
   "name": "python",
   "nbconvert_exporter": "python",
   "pygments_lexer": "ipython3",
   "version": "3.7.9"
  }
 },
 "nbformat": 4,
 "nbformat_minor": 4
}
