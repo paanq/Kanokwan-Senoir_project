{
 "cells": [
  {
   "cell_type": "code",
   "execution_count": 1,
   "metadata": {},
   "outputs": [],
   "source": [
    "import numpy as np\n",
    "from scipy.optimize import linprog\n",
    "from itertools import combinations\n",
    "from colorama import Fore, Back, Style"
   ]
  },
  {
   "cell_type": "code",
   "execution_count": 2,
   "metadata": {},
   "outputs": [],
   "source": [
    "def all_diag_combination(dim):\n",
    "    possible_combination = set(combinations([-1, 1] * dim ,dim))\n",
    "    return list(np.diag(item) for item in possible_combination)"
   ]
  },
  {
   "cell_type": "code",
   "execution_count": 3,
   "metadata": {},
   "outputs": [
    {
     "name": "stdout",
     "output_type": "stream",
     "text": [
      "Enter M: 2\n",
      "Enter N: 4\n",
      "Enter Number of iteration: 30\n",
      "Enter width of interval: 0.01\n"
     ]
    }
   ],
   "source": [
    "dim = int(input(\"Enter M: \"))\n",
    "din = int(input(\"Enter N: \"))\n",
    "itr = int(input(\"Enter Number of iteration: \"))\n",
    "mul = float(input(\"Enter width of interval: \"))"
   ]
  },
  {
   "cell_type": "code",
   "execution_count": 4,
   "metadata": {},
   "outputs": [
    {
     "name": "stdout",
     "output_type": "stream",
     "text": [
      "\u001b[30mi = 0\n",
      "Lower Bound is  5.0000\n",
      "Upper Bound is  5.0000 \n",
      "\n",
      "\u001b[30mi = 1\n",
      "Lower Bound is  4.8085\n",
      "Upper Bound is  5.2228 \n",
      "\n",
      "\u001b[30mi = 2\n",
      "Lower Bound is  4.6424\n",
      "Upper Bound is  5.4847 \n",
      "\n",
      "\u001b[30mi = 3\n",
      "Lower Bound is  4.4971\n",
      "Upper Bound is  5.7965 \n",
      "\n",
      "\u001b[30mi = 4\n",
      "Lower Bound is  4.3692\n",
      "Upper Bound is  6.1735 \n",
      "\n",
      "\u001b[30mi = 5\n",
      "Lower Bound is  4.2559\n",
      "Upper Bound is  6.6375 \n",
      "\n",
      "\u001b[30mi = 6\n",
      "Lower Bound is  4.1550\n",
      "Upper Bound is  7.2217 \n",
      "\n",
      "\u001b[30mi = 7\n",
      "Lower Bound is  4.0647\n",
      "Upper Bound is  7.9784 \n",
      "\n",
      "\u001b[30mi = 8\n",
      "Lower Bound is  3.9836\n",
      "Upper Bound is  8.9955 \n",
      "\n",
      "\u001b[30mi = 9\n",
      "Lower Bound is  3.9104\n",
      "Upper Bound is  10.4327 \n",
      "\n",
      "\u001b[30mi = 10\n",
      "Lower Bound is  3.8442\n",
      "Upper Bound is  12.6143 \n",
      "\n",
      "\u001b[30mi = 11\n",
      "Lower Bound is  3.7841\n",
      "Upper Bound is  16.3131 \n",
      "\n",
      "\u001b[30mi = 12\n",
      "Lower Bound is  3.7294\n",
      "Upper Bound is  23.9388 \n",
      "\n",
      "\u001b[30mi = 13\n",
      "Lower Bound is  3.6796\n",
      "Upper Bound is  48.7450 \n",
      "\n",
      "\u001b[30mi = 14\n",
      "Lower Bound is  3.6340\n",
      "\u001b[30mUpper Bound: Problem appears to be \u001b[31minfeasible \n",
      "\n",
      "\u001b[30mi = 15\n",
      "Lower Bound is  3.5923\n",
      "\u001b[30mUpper Bound: Problem appears to be \u001b[31minfeasible \n",
      "\n",
      "\u001b[30mi = 16\n",
      "Lower Bound is  3.5541\n",
      "\u001b[30mUpper Bound: Problem appears to be \u001b[31minfeasible \n",
      "\n",
      "\u001b[30mi = 17\n",
      "Lower Bound is  3.5189\n",
      "\u001b[30mUpper Bound: Problem appears to be \u001b[31minfeasible \n",
      "\n",
      "\u001b[30mi = 18\n",
      "Lower Bound is  3.4866\n",
      "\u001b[30mUpper Bound: Problem appears to be \u001b[31minfeasible \n",
      "\n",
      "\u001b[30mi = 19\n",
      "Lower Bound is  3.4569\n",
      "\u001b[30mUpper Bound: Problem appears to be \u001b[31minfeasible \n",
      "\n",
      "\u001b[30mi = 20\n",
      "Lower Bound is  3.4295\n",
      "\u001b[30mUpper Bound: Problem appears to be \u001b[31minfeasible \n",
      "\n",
      "\u001b[30mi = 21\n",
      "Lower Bound is  3.4043\n",
      "\u001b[30mUpper Bound: Problem appears to be \u001b[31minfeasible \n",
      "\n",
      "\u001b[30mi = 22\n",
      "Lower Bound is  3.3810\n",
      "\u001b[30mUpper Bound: Problem appears to be \u001b[31minfeasible \n",
      "\n",
      "\u001b[30mi = 23\n",
      "Lower Bound is  3.3396\n",
      "\u001b[30mUpper Bound: Problem appears to be \u001b[31minfeasible \n",
      "\n",
      "\u001b[30mi = 24\n",
      "Lower Bound: Problem appears to be \u001b[34munbounded\n",
      "\u001b[30mUpper Bound: Problem appears to be \u001b[31minfeasible \n",
      "\n",
      "\u001b[30mi = 25\n",
      "Lower Bound: Problem appears to be \u001b[34munbounded\n",
      "\u001b[30mUpper Bound: Problem appears to be \u001b[31minfeasible \n",
      "\n",
      "\u001b[30mi = 26\n",
      "Lower Bound: Problem appears to be \u001b[34munbounded\n",
      "\u001b[30mUpper Bound: Problem appears to be \u001b[31minfeasible \n",
      "\n",
      "\u001b[30mi = 27\n",
      "Lower Bound: Problem appears to be \u001b[34munbounded\n",
      "\u001b[30mUpper Bound: Problem appears to be \u001b[31minfeasible \n",
      "\n",
      "\u001b[30mi = 28\n",
      "Lower Bound: Problem appears to be \u001b[34munbounded\n",
      "\u001b[30mUpper Bound: Problem appears to be \u001b[31minfeasible \n",
      "\n",
      "\u001b[30mi = 29\n",
      "Lower Bound: Problem appears to be \u001b[34munbounded\n",
      "\u001b[30mUpper Bound: Problem appears to be \u001b[31minfeasible \n",
      "\n"
     ]
    }
   ],
   "source": [
    "Cc = np.array([-1, -2, 3, 4])                                                                           #จุดกึ่งกลางของแต่ละสมาชิกในเมทริกซ์\n",
    "Ac = np.array([[5, 6, -7, 8],  \n",
    "    [10, -11, 12, 13]])\n",
    "Bc = np.array([-9, 14])\n",
    "status = []\n",
    "\n",
    "Fun1 = []\n",
    "dic = []\n",
    "Dic = []\n",
    "for i in range(itr):\n",
    "    fun = []\n",
    "    A = []\n",
    "    B = []\n",
    "    Al = Ac - (np.ones((dim,din))*mul*i)\n",
    "    Au = -(Ac + (np.ones((dim,din))*mul*i))\n",
    "    Bl = -(Bc - (np.ones((dim))*mul*i))\n",
    "    Bu = Bc + (np.ones((dim))*mul*i)\n",
    "    Cl = Cc - (np.ones((din))*mul*i)\n",
    "    Cu = -(Cc + (np.ones((din))*mul*i))\n",
    "    A = np.append( arr=Al, values=Au, axis=0)\n",
    "    B = np.append( arr=Bu, values=Bl, axis=0)\n",
    "    res = linprog(Cl, A_ub = A, b_ub = B, method = 'revised simplex' )\n",
    "    status.append(res['status'])\n",
    "    print(Fore.BLACK + 'i =', i)\n",
    "    if 1 in status:\n",
    "        print('Iteration limit reached')\n",
    "    elif 2 in status:\n",
    "        print('Lower Bound:', 'Problem appears to be',Fore.RED + 'infeasible')\n",
    "    elif 3 in status:\n",
    "        print('Lower Bound:', 'Problem appears to be',Fore.BLUE + 'unbounded')\n",
    "    elif 4 in status:\n",
    "        print('Numerical difficulties encountered')\n",
    "    elif 5 in status:\n",
    "        print('No constraints; turn presolve on')\n",
    "    elif 6 in status:\n",
    "        print('Guess x0 cannot be converted to a basic feasible solution')\n",
    "    else:\n",
    "        fun.append(i)\n",
    "        fun.append(res['fun'])\n",
    "        dic.append(fun)\n",
    "        print('Lower Bound is ','%.4f' %dic[i][1])\n",
    "\n",
    "    \n",
    "    Status = []\n",
    "    Fun = []\n",
    "    for r in range(4):\n",
    "        Res1 = []      \n",
    "        aye = Ac - all_diag_combination(dim)[r].dot(np.ones((dim,din))*mul*i)\n",
    "        aye = np.array(aye)\n",
    "        By = Bc + all_diag_combination(dim)[r].dot(np.ones((dim))*mul*i)\n",
    "        Cy = Cc + (np.ones((din))*mul*i)\n",
    "        bnd = [(0, float(\"inf\")), (0, float(\"inf\")), (0, float(\"inf\")), (0, float(\"inf\"))]\n",
    "        Res = linprog(c=Cy, A_eq=aye, b_eq=By, bounds=bnd, method=\"revised simplex\")\n",
    "        Fun.append(Res['fun'])\n",
    "        Status.append(Res['status'])\n",
    "    Fun1.append(max(Fun))\n",
    "    if 1 in Status:\n",
    "        print('Iteration limit reached', '\\n')\n",
    "    elif 2 in Status:\n",
    "        print(Fore.BLACK + 'Upper Bound:', 'Problem appears to be',Fore.RED +  'infeasible', '\\n')\n",
    "    elif 3 in Status:\n",
    "        print(Fore.BLACK + 'Upper Bound:', 'Problem appears to be',Fore.BLUE + 'unbounded', '\\n')\n",
    "    elif 4 in Status:\n",
    "        print('Numerical difficulties encountered', '\\n')\n",
    "    elif 5 in Status:\n",
    "        print('No constraints; turn presolve on', '\\n')\n",
    "    elif 6 in Status:\n",
    "        print('Guess x0 cannot be converted to a basic feasible solution', '\\n')\n",
    "    else:\n",
    "        print('Upper Bound is ','%.4f' %max(Fun), '\\n')\n",
    "        \n"
   ]
  },
  {
   "cell_type": "code",
   "execution_count": 5,
   "metadata": {
    "scrolled": true
   },
   "outputs": [],
   "source": [
    "dic = sorted(dic,key=lambda dic:dic[1], reverse=False)\n"
   ]
  },
  {
   "cell_type": "code",
   "execution_count": 6,
   "metadata": {
    "scrolled": true
   },
   "outputs": [
    {
     "data": {
      "text/plain": [
       "[[23, 3.3395890410958904],\n",
       " [22, 3.380990712074303],\n",
       " [21, 3.4042675159235665],\n",
       " [20, 3.4295081967213115],\n",
       " [19, 3.4568918918918916],\n",
       " [18, 3.486620209059234],\n",
       " [17, 3.5189208633093525],\n",
       " [16, 3.554052044609665],\n",
       " [15, 3.592307692307691],\n",
       " [14, 3.6340239043824694],\n",
       " [13, 3.6795867768595043],\n",
       " [12, 3.7294420600858382],\n",
       " [11, 3.7841071428571427],\n",
       " [10, 3.844186046511629],\n",
       " [9, 3.9103883495145637],\n",
       " [8, 3.9835532994923857],\n",
       " [7, 4.064680851063828],\n",
       " [6, 4.154972067039106],\n",
       " [5, 4.255882352941176],\n",
       " [4, 4.369192546583854],\n",
       " [3, 4.4971052631578985],\n",
       " [2, 4.6423776223776265],\n",
       " [1, 4.808507462686572],\n",
       " [0, 5.0]]"
      ]
     },
     "execution_count": 6,
     "metadata": {},
     "output_type": "execute_result"
    }
   ],
   "source": [
    "dic"
   ]
  },
  {
   "cell_type": "code",
   "execution_count": 7,
   "metadata": {
    "scrolled": false
   },
   "outputs": [
    {
     "name": "stdout",
     "output_type": "stream",
     "text": [
      "\u001b[30mj = 0\n",
      "Lower Bound is  3.3396\n",
      "     con: array([], dtype=float64)\n",
      "     fun: 3.3395890410958904\n",
      " message: 'Optimization terminated successfully.'\n",
      "     nit: 2\n",
      "   slack: array([0.00000000e+00, 1.89041096e+00, 1.89041096e+00, 3.55271368e-15])\n",
      "  status: 0\n",
      " success: True\n",
      "       x: array([0.        , 1.05479452, 2.05479452, 0.        ])\n",
      "\u001b[30mj = 1\n",
      "Lower Bound is  3.3350\n",
      "     con: array([], dtype=float64)\n",
      "     fun: 3.334967168262655\n",
      " message: 'Optimization terminated successfully.'\n",
      "     nit: 2\n",
      "   slack: array([1.77635684e-15, 1.89603283e+00, 1.89603283e+00, 0.00000000e+00])\n",
      "  status: 0\n",
      " success: True\n",
      "       x: array([0.        , 1.05198358, 2.05198358, 0.        ])\n",
      "\u001b[30mj = 2\n",
      "Lower Bound is  3.3304\n",
      "     con: array([], dtype=float64)\n",
      "     fun: 3.330360655737704\n",
      " message: 'Optimization terminated successfully.'\n",
      "     nit: 2\n",
      "   slack: array([0.00000000e+00, 1.90163934e+00, 1.90163934e+00, 1.77635684e-15])\n",
      "  status: 0\n",
      " success: True\n",
      "       x: array([0.        , 1.04918033, 2.04918033, 0.        ])\n",
      "\u001b[30mj = 3\n",
      "Lower Bound is  3.3258\n",
      "     con: array([], dtype=float64)\n",
      "     fun: 3.325769440654843\n",
      " message: 'Optimization terminated successfully.'\n",
      "     nit: 2\n",
      "   slack: array([ 0.00000000e+00,  1.90723056e+00,  1.90723056e+00, -1.77635684e-15])\n",
      "  status: 0\n",
      " success: True\n",
      "       x: array([0.        , 1.04638472, 2.04638472, 0.        ])\n",
      "\u001b[30mj = 4\n",
      "Lower Bound is  3.3212\n",
      "     con: array([], dtype=float64)\n",
      "     fun: 3.321193460490463\n",
      " message: 'Optimization terminated successfully.'\n",
      "     nit: 2\n",
      "   slack: array([ 0.00000000e+00,  1.91280654e+00,  1.91280654e+00, -1.77635684e-15])\n",
      "  status: 0\n",
      " success: True\n",
      "       x: array([0.        , 1.04359673, 2.04359673, 0.        ])\n",
      "\u001b[30mj = 5\n",
      "Lower Bound is  3.3166\n",
      "     con: array([], dtype=float64)\n",
      "     fun: 3.3166326530612245\n",
      " message: 'Optimization terminated successfully.'\n",
      "     nit: 2\n",
      "   slack: array([ 0.00000000e+00,  1.91836735e+00,  1.91836735e+00, -1.77635684e-15])\n",
      "  status: 0\n",
      " success: True\n",
      "       x: array([0.        , 1.04081633, 2.04081633, 0.        ])\n",
      "\u001b[30mj = 6\n",
      "\u001b[30mLower Bound: Problem appears to be \u001b[34munbounded\n",
      "     con: array([], dtype=float64)\n",
      "     fun: 3.312086956521739\n",
      " message: 'The problem is unbounded, as the simplex algorithm found a basic feasible solution from which there is a direction with negative reduced cost in which all decision variables increase.'\n",
      "     nit: 2\n",
      "   slack: array([0.00000000e+00, 1.92391304e+00, 1.92391304e+00, 3.55271368e-15])\n",
      "  status: 3\n",
      " success: False\n",
      "       x: array([0.        , 1.03804348, 2.03804348, 0.        ])\n",
      "\u001b[30mj = 7\n",
      "\u001b[30mLower Bound: Problem appears to be \u001b[34munbounded\n",
      "     con: array([], dtype=float64)\n",
      "     fun: 3.307556309362279\n",
      " message: 'The problem is unbounded, as the simplex algorithm found a basic feasible solution from which there is a direction with negative reduced cost in which all decision variables increase.'\n",
      "     nit: 2\n",
      "   slack: array([1.77635684e-15, 1.92944369e+00, 1.92944369e+00, 1.77635684e-15])\n",
      "  status: 3\n",
      " success: False\n",
      "       x: array([0.        , 1.03527815, 2.03527815, 0.        ])\n",
      "\u001b[30mj = 8\n",
      "\u001b[30mLower Bound: Problem appears to be \u001b[34munbounded\n",
      "     con: array([], dtype=float64)\n",
      "     fun: 3.303040650406503\n",
      " message: 'The problem is unbounded, as the simplex algorithm found a basic feasible solution from which there is a direction with negative reduced cost in which all decision variables increase.'\n",
      "     nit: 2\n",
      "   slack: array([ 0.00000000e+00,  1.93495935e+00,  1.93495935e+00, -3.55271368e-15])\n",
      "  status: 3\n",
      " success: False\n",
      "       x: array([0.        , 1.03252033, 2.03252033, 0.        ])\n",
      "\u001b[30mj = 9\n",
      "\u001b[30mLower Bound: Problem appears to be \u001b[34munbounded\n",
      "     con: array([], dtype=float64)\n",
      "     fun: 3.298539918809202\n",
      " message: 'The problem is unbounded, as the simplex algorithm found a basic feasible solution from which there is a direction with negative reduced cost in which all decision variables increase.'\n",
      "     nit: 2\n",
      "   slack: array([0.        , 1.94046008, 1.94046008, 0.        ])\n",
      "  status: 3\n",
      " success: False\n",
      "       x: array([0.        , 1.02976996, 2.02976996, 0.        ])\n",
      "\u001b[30mj = 10\n",
      "\u001b[30mLower Bound: Problem appears to be \u001b[34munbounded\n",
      "     con: array([], dtype=float64)\n",
      "     fun: 3.294054054054053\n",
      " message: 'The problem is unbounded, as the simplex algorithm found a basic feasible solution from which there is a direction with negative reduced cost in which all decision variables increase.'\n",
      "     nit: 2\n",
      "   slack: array([ 0.00000000e+00,  1.94594595e+00,  1.94594595e+00, -1.77635684e-15])\n",
      "  status: 3\n",
      " success: False\n",
      "       x: array([0.        , 1.02702703, 2.02702703, 0.        ])\n"
     ]
    }
   ],
   "source": [
    "status2 = []\n",
    "dic2 = []\n",
    "for j in range(11):\n",
    "    fun2 = []\n",
    "    A2 = []\n",
    "    B2 = []\n",
    "    Al2 = Ac - (np.ones((dim,din))*round(0.001,4)*j + dic[0][0]*0.01)\n",
    "    Au2 = -(Ac + (np.ones((dim,din))*round(0.001,4)*j + dic[0][0]*0.01))\n",
    "    Bl2 = -(Bc - (np.ones((dim))*round(0.001,4)*j + dic[0][0]*0.01))\n",
    "    Bu2 = Bc + (np.ones((dim))*round(0.001,4)*j + dic[0][0]*0.01)\n",
    "    Cl2 = Cc - (np.ones((din))*round(0.001,4)*j + dic[0][0]*0.01)\n",
    "    Cu2 = -(Cc + (np.ones((din))*round(0.001,4) + dic[0][0]*0.01))\n",
    "    A2 = np.append( arr=Al2, values=Au2, axis=0)\n",
    "    B2 = np.append( arr=Bu2, values=Bl2, axis=0)\n",
    "    res2 = linprog(Cl2, A_ub = A2, b_ub = B2, method = 'revised simplex' )\n",
    "    status2.append(res2['status'])\n",
    "    #print((j*round(0.001,4))+dic[1][0]*0.01)\n",
    "    print(Fore.BLACK + 'j =', j)\n",
    "    if 1 in status2:\n",
    "        print('Iteration limit reached')\n",
    "    elif 2 in status2:\n",
    "        print('Lower Bound:', 'Problem appears to be', 'infeasible')\n",
    "    elif 3 in status2:\n",
    "        print(Fore.BLACK + 'Lower Bound:', 'Problem appears to be',Fore.BLUE + 'unbounded')\n",
    "    elif 4 in status2:\n",
    "        print('Numerical difficulties encountered')\n",
    "    elif 5 in status2:\n",
    "        print('No constraints; turn presolve on')\n",
    "    elif 6 in status2:\n",
    "        print('Guess x0 cannot be converted to a basic feasible solution')\n",
    "    else:\n",
    "        fun2.append(j)\n",
    "        fun2.append(res2['fun'])\n",
    "        dic2.append(fun2)\n",
    "        status2.append(res2['status'])\n",
    "        print('Lower Bound is ','%.4f' %dic2[j][1])\n",
    "    print(res2)"
   ]
  },
  {
   "cell_type": "code",
   "execution_count": 32,
   "metadata": {
    "scrolled": true
   },
   "outputs": [
    {
     "data": {
      "text/plain": [
       "array([[  4.779,   5.779,  -7.221,   7.779],\n",
       "       [  9.779, -11.221,  11.779,  12.779],\n",
       "       [ -5.221,  -6.221,   6.779,  -8.221],\n",
       "       [-10.221,  10.779, -12.221, -13.221]])"
      ]
     },
     "execution_count": 32,
     "metadata": {},
     "output_type": "execute_result"
    }
   ],
   "source": [
    "A2"
   ]
  },
  {
   "cell_type": "code",
   "execution_count": 33,
   "metadata": {
    "scrolled": true
   },
   "outputs": [
    {
     "data": {
      "text/plain": [
       "array([ -8.779,  14.221,   8.781, -14.219])"
      ]
     },
     "execution_count": 33,
     "metadata": {},
     "output_type": "execute_result"
    }
   ],
   "source": [
    "B2"
   ]
  },
  {
   "cell_type": "code",
   "execution_count": 38,
   "metadata": {},
   "outputs": [
    {
     "data": {
      "text/plain": [
       "0.001"
      ]
     },
     "execution_count": 38,
     "metadata": {},
     "output_type": "execute_result"
    }
   ],
   "source": [
    "round(0.001,4)*j+dic[1][0]*0.01"
   ]
  },
  {
   "cell_type": "code",
   "execution_count": 37,
   "metadata": {},
   "outputs": [
    {
     "data": {
      "text/plain": [
       "22"
      ]
     },
     "execution_count": 37,
     "metadata": {},
     "output_type": "execute_result"
    }
   ],
   "source": [
    "dic[1][0]"
   ]
  }
 ],
 "metadata": {
  "kernelspec": {
   "display_name": "Python 3",
   "language": "python",
   "name": "python3"
  },
  "language_info": {
   "codemirror_mode": {
    "name": "ipython",
    "version": 3
   },
   "file_extension": ".py",
   "mimetype": "text/x-python",
   "name": "python",
   "nbconvert_exporter": "python",
   "pygments_lexer": "ipython3",
   "version": "3.7.9"
  }
 },
 "nbformat": 4,
 "nbformat_minor": 4
}
