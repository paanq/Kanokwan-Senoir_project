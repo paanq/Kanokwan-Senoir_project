{
 "cells": [
  {
   "cell_type": "code",
   "execution_count": 2,
   "metadata": {},
   "outputs": [],
   "source": [
    "import pulp as p\n",
    "import numpy as np\n",
    "from itertools import combinations"
   ]
  },
  {
   "cell_type": "markdown",
   "metadata": {},
   "source": [
    "### สุ่ม Matrix แนวทแยงทั้งหมดที่เป็นไปได้ที่ประกอบไปด้วย -1 และ 1"
   ]
  },
  {
   "cell_type": "code",
   "execution_count": 3,
   "metadata": {},
   "outputs": [],
   "source": [
    "def all_diag_combination(dim):\n",
    "    possible_combination = set(combinations([-1, 1] * dim ,dim))\n",
    "    return list(np.diag(item) for item in possible_combination)"
   ]
  },
  {
   "cell_type": "markdown",
   "metadata": {},
   "source": [
    "### สร้าง Linear programming โดยเริ่มจาก lower bound ---> Upper bound"
   ]
  },
  {
   "cell_type": "code",
   "execution_count": 5,
   "metadata": {},
   "outputs": [
    {
     "name": "stdout",
     "output_type": "stream",
     "text": [
      "i = 0 : LB = 5.0000 , UB = 5.0000\n",
      "i = 1 : LB = 4.8085 , UB = 5.2228\n",
      "i = 2 : LB = 4.6424 , UB = 5.4847\n",
      "i = 3 : LB = 4.4971 , UB = 5.7965\n",
      "i = 4 : LB = 4.3692 , UB = 6.1735\n",
      "i = 5 : LB = 4.2559 , UB = 6.6375\n",
      "i = 6 : LB = 4.1550 , UB = 7.2217\n",
      "i = 7 : LB = 4.0647 , UB = 7.9784\n",
      "i = 8 : LB = 3.9836 , UB = 8.9955\n",
      "i = 9 : LB = 3.9104 , UB = 10.4327\n",
      "i = 10 : LB = 3.8442 , UB = 12.6143\n",
      "i = 11 : LB = 3.7841 , UB = 16.3131\n",
      "i = 12 : LB = 3.7294 , UB = 23.9388\n",
      "i = 13 : LB = 3.6796 , UB = 48.7450\n",
      "i = 14 : LB = 3.6340 , UB = 48.7450\n",
      "i = 15 : LB = 3.5923 , UB = 48.7450\n",
      "i = 16 : LB = 3.5541 , UB = 48.7450\n",
      "i = 17 : LB = 3.5189 , UB = 48.7450\n",
      "i = 18 : LB = 3.4866 , UB = 48.7450\n",
      "i = 19 : LB = 3.4569 , UB = 48.7450\n",
      "i = 20 : LB = 3.4295 , UB = 48.7450\n",
      "i = 21 : LB = 3.4043 , UB = 48.7450\n",
      "i = 22 : LB = 3.3810 , UB = 48.7450\n",
      "i = 23 : LB = 3.3396 , UB = 48.7450\n",
      "i = 24 : LB = 3.2941 , UB = 48.7450\n"
     ]
    }
   ],
   "source": [
    "Cc = np.array([[-1], [-2], [3], [4]])                                                                           #จุดกึ่งกลางของแต่ละสมาชิกในเมทริกซ์\n",
    "Ac = np.array([[5, 6, -7, 8],  \n",
    "    [10, -11, 12, 13]])\n",
    "Bc = np.array([[-9], [14]])\n",
    "Sol_u = [ ]\n",
    "\n",
    "for i in range(25):                                                                                                  #วน 25 รอบ\n",
    "    \n",
    "#################################### LOWER BOUND CASE ###########################################    \n",
    "    \n",
    "    lp_prob = p.LpProblem('Problem', p.LpMinimize)                                                   #กำหนดชื่อว่า ''Problem\" และกำหนดว่าเป็น Minimization\n",
    "    w = p.LpVariable(\"w\", lowBound = 0)                                                                  #สร้างตัวแปร และ กำหนดให้แต่ละตัวแปรมีค่ามากกว่าหรือเท่ากับ 0\n",
    "    x = p.LpVariable(\"x\", lowBound = 0)                                                                     \n",
    "    y = p.LpVariable(\"y\", lowBound = 0)\n",
    "    z = p.LpVariable(\"z\", lowBound = 0)\n",
    "    v = np.array([[w, x, y, z]])                                                                                 #เมทริกซ์ตัวแปร\n",
    "\n",
    "\n",
    "    Al = Ac - (np.array([[0.01, 0.01, 0.01, 0.01], [0.01, 0.01, 0.01, 0.01]])*i)               #ขอบเขตล่างของเมทริซ์ A\n",
    "    Au = Ac + (np.array([[0.01, 0.01, 0.01, 0.01], [0.01, 0.01, 0.01, 0.01]])*i)            #ขอบเขตบนของเมทริซ์ A\n",
    "    stl = Al.dot(v.transpose())                                                                                 #ขอบเขตล่างของเมทริซ์ A คูณกับ เมทริกซ์ของตัวแปร\n",
    "    stu = Au.dot(v.transpose())                                                                               #ขอบเขตบนของเมทริซ์ A คูณกับ เมทริกซ์ของตัวแปร\n",
    "    Bl = Bc - (np.array([[0.01], [0.01]])*i)                                                               #ขอบเขตล่างของเมทริซ์ B\n",
    "    Bu = Bc + (np.array([[0.01], [0.01]])*i)                                                             #ขอบเขตบนของเมทริซ์ B\n",
    "    lp_prob += v.dot(Cc - (np.array([[0.01, 0.01, 0.01, 0.01], \n",
    "                                     [0.01, 0.01, 0.01, 0.01]])*i).transpose())[0][0]                  #Objective Function\n",
    "    \n",
    "    lp_prob += stl[0][0] <= Bu[0][0]                                                                     #ขอบเขตล่างของ A คูณกับตัวแปร น้อยกว่าหรือเท่ากับ ขอบเขตบนของ B\n",
    "    lp_prob += stl[1][0] <= Bu[1][0]\n",
    "    lp_prob += stu[0][0] >= Bl[0][0]                                                                     #ขอบเขตบนของ A คูณกับตัวแปร น้อยกว่าหรือเท่ากับ ขอบเขตล่างของ B\n",
    "    lp_prob += stu[1][0] >= Bl[1][0]\n",
    "\n",
    "    #print(lp_prob)\n",
    "    \n",
    "    status = lp_prob.solve()                                                                                   #แก้ปัญหา Linear Program ของกรณี Lower bound\n",
    "    #print(p.LpStatus[status])\n",
    "    \n",
    "    \n",
    "\n",
    "###################################### UPPER BOUND CASE #########################################\n",
    "\n",
    "\n",
    "\n",
    "#for k in range(25):\n",
    "    for l in range(4):\n",
    "        Lp_prob = p.LpProblem('Problem', p.LpMinimize)                                            #กำหนดชื่อว่า ''Problem\" และกำหนดว่าเป็น Minimization\n",
    "        a = p.LpVariable(\"a\", lowBound = 0)                                                            #สร้างตัวแปร และ กำหนดให้แต่ละตัวแปรมีค่ามากกว่าหรือเท่ากับ 0\n",
    "        b = p.LpVariable(\"b\", lowBound = 0)\n",
    "        c = p.LpVariable(\"c\", lowBound = 0)\n",
    "        d = p.LpVariable(\"d\", lowBound = 0)\n",
    "        v = np.array([[a, b, c, d]])\n",
    "        Aye = Ac - all_diag_combination(2)[l].dot(np.array([[0.01, 0.01, 0.01, 0.01],   \n",
    "                                                            [0.01, 0.01, 0.01, 0.01]])*i)                     #สร้างเมทริกซ์ Aye\n",
    "        By = Bc + all_diag_combination(2)[l].dot(np.array([[0.01], [0.01]])*i)            #สร้างเมทริกซ์ By\n",
    "    \n",
    "        Lp_prob += v.dot(Cc + (np.array([[0.01, 0.01, 0.01, 0.01],\n",
    "                                         [0.01, 0.01, 0.01, 0.01]])*i).transpose())[0][0]            #Objective Function\n",
    "        Lp_prob += Aye[0].dot(v.transpose())[0] >= By[0][0]                                 #(Aye)(x) = By\n",
    "        Lp_prob += Aye[0].dot(v.transpose())[0] <= By[0][0]\n",
    "        Lp_prob += Aye[1].dot(v.transpose())[0] >= By[1][0]\n",
    "        Lp_prob += Aye[1].dot(v.transpose())[0] <= By[1][0]\n",
    "\n",
    "        #print(Lp_prob)\n",
    "        status = Lp_prob.solve()                                                                           #แก้ปัญหา Linear Program ของกรณี Upper bound\n",
    "        Sol_u.append(p.value(Lp_prob.objective))                                                  #ใส่คำตอบที่คำนวณ 25 รอบลงในลิสต์ Sol_u\n",
    "        #print('i =',i, ': %.4f' %(p.value(Lp_prob.objective)))\n",
    "    #print('i =',i, ': %.4f' %(p.value(lp_prob.objective)))\n",
    "    print('i =',i, ': LB = %.4f' %(p.value(lp_prob.objective)) ,\n",
    "            ', UB = %.4f' %(max(Sol_u)))                                                              #แสดงคำตอบ"
   ]
  },
  {
   "cell_type": "code",
   "execution_count": null,
   "metadata": {},
   "outputs": [],
   "source": []
  }
 ],
 "metadata": {
  "kernelspec": {
   "display_name": "Python 3",
   "language": "python",
   "name": "python3"
  },
  "language_info": {
   "codemirror_mode": {
    "name": "ipython",
    "version": 3
   },
   "file_extension": ".py",
   "mimetype": "text/x-python",
   "name": "python",
   "nbconvert_exporter": "python",
   "pygments_lexer": "ipython3",
   "version": "3.7.9"
  }
 },
 "nbformat": 4,
 "nbformat_minor": 4
}
