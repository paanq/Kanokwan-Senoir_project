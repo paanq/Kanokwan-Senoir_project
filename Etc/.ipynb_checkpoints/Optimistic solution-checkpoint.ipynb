{
 "cells": [
  {
   "cell_type": "code",
   "execution_count": null,
   "metadata": {},
   "outputs": [],
   "source": [
    "import numpy as np\n",
    "from scipy.optimize import linprog\n",
    "from itertools import combinations\n",
    "from colorama import Fore, Back, Style"
   ]
  },
  {
   "cell_type": "code",
   "execution_count": null,
   "metadata": {},
   "outputs": [],
   "source": [
    "def all_diag_combination(dim):\n",
    "    possible_combination = set(combinations([-1, 1] * dim ,dim))\n",
    "    return list(np.diag(item) for item in possible_combination)"
   ]
  },
  {
   "cell_type": "code",
   "execution_count": null,
   "metadata": {},
   "outputs": [],
   "source": [
    "dim = int(input(\"Enter M: \"))\n",
    "din = int(input(\"Enter N: \"))"
   ]
  },
  {
   "cell_type": "code",
   "execution_count": null,
   "metadata": {},
   "outputs": [],
   "source": [
    "################################# input matrix A ################################\n",
    "\n",
    "print(\"Enter Matrix A :\")\n",
    "Ac = []\n",
    "Au = []\n",
    "delta = []\n",
    "for m in range(dim):\n",
    "    Ac_1 = []\n",
    "    Au_1 = []\n",
    "    delta_1 = []\n",
    "    for n in range(din):\n",
    "        value_A = input(\"Enter 2 numbers (with a comma in between): \")\n",
    "        a, b = value_A.split(',')\n",
    "        a, b = float(a), float(b)\n",
    "        Ac_1.append((a+b)*0.5)\n",
    "        Au_1.append(b)\n",
    "        delta_1.append((b-a)*0.5)\n",
    "    Ac.append(Ac_1)\n",
    "    Au.append(Au_1)\n",
    "    delta.append(delta_1)\n",
    "    \n",
    "print(\"Center matrix of A =\", Ac)\n",
    "print(\"Upper bound matrix of A =\", Au)\n",
    "print(\"Radius matrix of A =\", delta, '\\n')\n",
    "\n",
    "################################# input matrix B ################################\n",
    "\n",
    "print(\"Enter Matrix B :\")\n",
    "Bc = []\n",
    "Bl = []\n",
    "tuda = []\n",
    "for m in range(dim):\n",
    "    value_B = input(\"Enter 2 numbers (with a comma in between): \")\n",
    "    c, d = value_B.split(',')\n",
    "    c, d = float(c), float(d)\n",
    "    Bc.append((c+d)*0.5)\n",
    "    Bl.append(c)\n",
    "    tuda.append((d-c)*0.5)\n",
    "    \n",
    "print(\"Center matrix of B =\", Bc)\n",
    "print(\"Lower bound matrix of B =\", Bl)\n",
    "print('Radius matrix of B =', tuda, '\\n')\n",
    "\n",
    "################################# input matrix C ################################\n",
    "\n",
    "print(\"Enter Matrix C :\")\n",
    "C = []\n",
    "for r in range(din):\n",
    "    value_C = float(input(\"Enter number\"))\n",
    "    C.append(value_C)\n",
    "    \n",
    "print(\"Matrix C =\", C)"
   ]
  },
  {
   "cell_type": "code",
   "execution_count": null,
   "metadata": {},
   "outputs": [],
   "source": []
  }
 ],
 "metadata": {
  "kernelspec": {
   "display_name": "Python 3",
   "language": "python",
   "name": "python3"
  },
  "language_info": {
   "codemirror_mode": {
    "name": "ipython",
    "version": 3
   },
   "file_extension": ".py",
   "mimetype": "text/x-python",
   "name": "python",
   "nbconvert_exporter": "python",
   "pygments_lexer": "ipython3",
   "version": "3.7.9"
  }
 },
 "nbformat": 4,
 "nbformat_minor": 4
}
