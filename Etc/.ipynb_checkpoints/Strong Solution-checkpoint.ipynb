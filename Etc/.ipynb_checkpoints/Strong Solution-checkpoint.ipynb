{
 "cells": [
  {
   "cell_type": "code",
   "execution_count": 1,
   "metadata": {},
   "outputs": [],
   "source": [
    "import numpy as np\n",
    "from scipy.optimize import linprog\n",
    "from itertools import combinations\n",
    "from colorama import Fore, Back, Style"
   ]
  },
  {
   "cell_type": "code",
   "execution_count": 2,
   "metadata": {},
   "outputs": [],
   "source": [
    "def all_diag_combination(dim):\n",
    "    possible_combination = set(combinations([-1, 1] * dim ,dim))\n",
    "    return list(np.diag(item) for item in possible_combination)"
   ]
  },
  {
   "cell_type": "code",
   "execution_count": 3,
   "metadata": {},
   "outputs": [
    {
     "name": "stdout",
     "output_type": "stream",
     "text": [
      "Enter M: 2\n",
      "Enter N: 2\n",
      "Enter Matrix A :\n",
      "Enter 2 numbers (with a comma in between): -1,-1\n",
      "Enter 2 numbers (with a comma in between): -2,-2\n",
      "Enter 2 numbers (with a comma in between): -1,-1\n",
      "Enter 2 numbers (with a comma in between): -1,-1\n",
      "Enter Matrix B :\n",
      "Enter 2 numbers (with a comma in between): -40,-40\n",
      "Enter 2 numbers (with a comma in between): -30,-30\n",
      "Enter Matrix C :\n",
      "Enter number: 12\n",
      "Enter number: 16\n",
      "A = [[[-1.0, -1.0], [-2.0, -2.0]], [[-1.0, -1.0], [-1.0, -1.0]]]\n",
      "Upper bound of matrix A is  [[-1.0, -2.0], [-1.0, -1.0]] \n",
      "\n",
      "B = [[-40.0, -40.0], [-30.0, -30.0]]\n",
      "Lower bound of matrix B is [-40.0, -30.0] \n",
      "\n",
      "C = [12.0, 16.0]\n"
     ]
    }
   ],
   "source": [
    "dim = int(input(\"Enter M: \"))\n",
    "din = int(input(\"Enter N: \"))\n",
    "\n",
    "\n",
    "print(\"Enter Matrix A :\")\n",
    "a_1 = []\n",
    "A_u1 = []\n",
    "for r in range(dim):\n",
    "    a_2 = []\n",
    "    A_u = []\n",
    "    for c in range(din):\n",
    "        A = []        \n",
    "        value_a = input(\"Enter 2 numbers (with a comma in between): \")\n",
    "        a, b = value_a.split(',')\n",
    "        a, b = float(a), float(b)\n",
    "        A.append(a)\n",
    "        A.append(b)\n",
    "        A_u.append(b)\n",
    "        a_2.append(A)\n",
    "    a_1.append(a_2)\n",
    "    A_u1.append(A_u)\n",
    "   #     ac_1.append((a+b)*0.5)\n",
    "   # ac.append(ac_1)\n",
    "    \n",
    "print(\"Enter Matrix B :\")\n",
    "b_1 = []\n",
    "b_l = []\n",
    "for r in range(dim):\n",
    "    b_2 = []\n",
    "    value_b = input(\"Enter 2 numbers (with a comma in between): \")\n",
    "    c, d = value_b.split(',')\n",
    "    c, d = float(c), float(d)\n",
    "    b_2.append(c)\n",
    "    b_2.append(d)\n",
    "    b_1.append(b_2)\n",
    "    b_l.append(c)\n",
    "    \n",
    "print(\"Enter Matrix C :\")\n",
    "C = []\n",
    "for r in range(din):\n",
    "    value_C = float(input(\"Enter number: \"))\n",
    "    C.append(value_C)\n",
    "    \n",
    "print(\"A =\", a_1)\n",
    "print('Upper bound of matrix A is ',A_u1, '\\n')\n",
    "\n",
    "print(\"B =\", b_1)\n",
    "print('Lower bound of matrix B is', b_l, '\\n')\n",
    "\n",
    "print(\"C =\", C)\n",
    "\n"
   ]
  },
  {
   "cell_type": "code",
   "execution_count": 8,
   "metadata": {},
   "outputs": [
    {
     "name": "stdout",
     "output_type": "stream",
     "text": [
      "     con: array([], dtype=float64)\n",
      "     fun: 400.0\n",
      " message: 'Optimization terminated successfully.'\n",
      "     nit: 2\n",
      "   slack: array([0., 0.])\n",
      "  status: 0\n",
      " success: True\n",
      "       x: array([20., 10.]) \n",
      "\n",
      "This interval linear programming is strongly feasible.\n"
     ]
    }
   ],
   "source": [
    "res = linprog(C, A_ub=A_u1, b_ub=b_l, method='revised simplex')\n",
    "print(res, '\\n')\n",
    "if res['status']==0:\n",
    "    print('This interval linear programming is strongly feasible.')\n",
    "#print(a_1)\n",
    "#print(b_1)\n",
    "#print(c)"
   ]
  }
 ],
 "metadata": {
  "kernelspec": {
   "display_name": "Python 3",
   "language": "python",
   "name": "python3"
  },
  "language_info": {
   "codemirror_mode": {
    "name": "ipython",
    "version": 3
   },
   "file_extension": ".py",
   "mimetype": "text/x-python",
   "name": "python",
   "nbconvert_exporter": "python",
   "pygments_lexer": "ipython3",
   "version": "3.7.9"
  }
 },
 "nbformat": 4,
 "nbformat_minor": 4
}
