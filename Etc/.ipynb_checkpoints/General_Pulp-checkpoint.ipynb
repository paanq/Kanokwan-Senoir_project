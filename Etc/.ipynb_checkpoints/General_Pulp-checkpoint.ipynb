{
 "cells": [
  {
   "cell_type": "code",
   "execution_count": 1,
   "metadata": {},
   "outputs": [],
   "source": [
    "import pulp as p\n",
    "import numpy as np\n",
    "from itertools import combinations"
   ]
  },
  {
   "cell_type": "code",
   "execution_count": 2,
   "metadata": {},
   "outputs": [],
   "source": [
    "def all_diag_combination(dim):\n",
    "    possible_combination = set(combinations([-1, 1] * dim ,dim))\n",
    "    return list(np.diag(item) for item in possible_combination)"
   ]
  },
  {
   "cell_type": "code",
   "execution_count": 3,
   "metadata": {
    "scrolled": true
   },
   "outputs": [
    {
     "name": "stdout",
     "output_type": "stream",
     "text": [
      "Enter M:2\n"
     ]
    }
   ],
   "source": [
    "dim = int(input(\"Enter M:\"))"
   ]
  },
  {
   "cell_type": "code",
   "execution_count": 4,
   "metadata": {},
   "outputs": [
    {
     "name": "stdout",
     "output_type": "stream",
     "text": [
      "Enter N:4\n"
     ]
    }
   ],
   "source": [
    "din = int(input(\"Enter N:\"))"
   ]
  },
  {
   "cell_type": "code",
   "execution_count": 5,
   "metadata": {},
   "outputs": [
    {
     "name": "stdout",
     "output_type": "stream",
     "text": [
      "Enter Matrix Ac :\n",
      "5\n",
      "6\n",
      "-7\n",
      "8\n",
      "10\n",
      "-11\n",
      "12\n",
      "13\n",
      "Enter Matrix Bc :\n",
      "-9\n",
      "14\n",
      "Enter Matrix Cc :\n",
      "-1\n",
      "-2\n",
      "3\n",
      "4\n",
      "Ac = [[5, 6, -7, 8], [10, -11, 12, 13]]\n",
      "Bc = [[-9], [14]]\n",
      "Cc = [[-1], [-2], [3], [4]]\n"
     ]
    }
   ],
   "source": [
    "print(\"Enter Matrix Ac :\")\n",
    "ac = []\n",
    "for r in range(dim):\n",
    "    ac_1 = []\n",
    "    for c in range(din):\n",
    "        ac_2 = int(input())\n",
    "        ac_1.append(ac_2)\n",
    "    ac.append(ac_1)\n",
    "    \n",
    "print(\"Enter Matrix Bc :\")\n",
    "bc = []\n",
    "for r in range(dim):\n",
    "    bc_1 = []\n",
    "    bc_2 = int(input())\n",
    "    bc_1.append(bc_2)\n",
    "    bc.append(bc_1)\n",
    "    \n",
    "print(\"Enter Matrix Cc :\")\n",
    "cc = []\n",
    "for r in range(din):\n",
    "    cc_1 = []\n",
    "    cc_2 = int(input())\n",
    "    cc_1.append(cc_2)\n",
    "    cc.append(cc_1) \n",
    "\n",
    "print(\"Ac =\", ac)\n",
    "print(\"Bc =\", bc)\n",
    "print(\"Cc =\", cc)"
   ]
  },
  {
   "cell_type": "code",
   "execution_count": 35,
   "metadata": {},
   "outputs": [
    {
     "name": "stdout",
     "output_type": "stream",
     "text": [
      "i = 0 : LB = 5.0000 , UB = 5.0000\n",
      "i = 1 : LB = 4.8085 , UB = 5.2228\n",
      "i = 2 : LB = 4.6424 , UB = 5.4847\n",
      "i = 3 : LB = 4.4971 , UB = 5.7965\n",
      "i = 4 : LB = 4.3692 , UB = 6.1735\n",
      "i = 5 : LB = 4.2559 , UB = 6.6375\n",
      "i = 6 : LB = 4.1550 , UB = 7.2217\n",
      "i = 7 : LB = 4.0647 , UB = 7.9784\n",
      "i = 8 : LB = 3.9836 , UB = 8.9955\n",
      "i = 9 : LB = 3.9104 , UB = 10.4327\n",
      "i = 10 : LB = 3.8442 , UB = 12.6143\n",
      "i = 11 : LB = 3.7841 , UB = 16.3131\n",
      "i = 12 : LB = 3.7294 , UB = 23.9388\n",
      "i = 13 : LB = 3.6796 , UB = 48.7450\n",
      "i = 14 : LB = 3.6340 , UB = 48.7450\n",
      "i = 15 : LB = 3.5923 , UB = 48.7450\n",
      "i = 16 : LB = 3.5541 , UB = 48.7450\n",
      "i = 17 : LB = 3.5189 , UB = 48.7450\n",
      "i = 18 : LB = 3.4866 , UB = 48.7450\n",
      "i = 19 : LB = 3.4569 , UB = 48.7450\n",
      "i = 20 : LB = 3.4295 , UB = 48.7450\n",
      "i = 21 : LB = 3.4043 , UB = 48.7450\n",
      "i = 22 : LB = 3.3810 , UB = 48.7450\n",
      "i = 23 : LB = 3.3396 , UB = 48.7450\n",
      "i = 24 : LB = 3.2941 , UB = 48.7450\n"
     ]
    },
    {
     "data": {
      "text/plain": [
       "array([[a, b, c, d]], dtype=object)"
      ]
     },
     "execution_count": 35,
     "metadata": {},
     "output_type": "execute_result"
    }
   ],
   "source": [
    "Cc = np.array(cc)\n",
    "Ac = np.array(ac)\n",
    "Bc = np.array(bc)\n",
    "Sol_u = [ ]\n",
    "\n",
    "for i in range(25):\n",
    "    lp_prob = p.LpProblem('Problem', p.LpMinimize)\n",
    "    w = p.LpVariable(\"w\", lowBound = 0)\n",
    "    x = p.LpVariable(\"x\", lowBound = 0)\n",
    "    y = p.LpVariable(\"y\", lowBound = 0)\n",
    "    z = p.LpVariable(\"z\", lowBound = 0)\n",
    "    v = np.array([[w, x, y, z]])\n",
    "\n",
    "    Al = Ac - (np.array([[0.01, 0.01, 0.01, 0.01], [0.01, 0.01, 0.01, 0.01]])*i)\n",
    "    Au = Ac + (np.array([[0.01, 0.01, 0.01, 0.01], [0.01, 0.01, 0.01, 0.01]])*i)\n",
    "    stl = Al.dot(v.transpose())\n",
    "    stu = Au.dot(v.transpose())\n",
    "    Bl = Bc - (np.array([[0.01], [0.01]])*i)\n",
    "    Bu = Bc + (np.array([[0.01], [0.01]])*i)\n",
    "    lp_prob += v.dot(Cc - (np.array([[0.01, 0.01, 0.01, 0.01], [0.01, 0.01, 0.01, 0.01]])*i).transpose())[0][0]\n",
    "    \n",
    "    lp_prob += stl[0][0] <= Bu[0][0]\n",
    "    lp_prob += stu[0][0] >= Bl[0][0]\n",
    "    lp_prob += stl[1][0] <= Bu[1][0]\n",
    "    lp_prob += stu[1][0] >= Bl[1][0]\n",
    "\n",
    "    #print(lp_prob)\n",
    "    \n",
    "    status = lp_prob.solve()\n",
    "    #print(p.LpStatus[status])\n",
    "\n",
    "    \n",
    "\n",
    "#for k in range(25):\n",
    "    for l in range(4):\n",
    "        Lp_prob = p.LpProblem('Problem', p.LpMinimize)\n",
    "        a = p.LpVariable(\"a\", lowBound = 0)\n",
    "        b = p.LpVariable(\"b\", lowBound = 0)\n",
    "        c = p.LpVariable(\"c\", lowBound = 0)\n",
    "        d = p.LpVariable(\"d\", lowBound = 0)\n",
    "        v = np.array([[a, b, c, d]])\n",
    "        Aye = Ac - all_diag_combination(2)[l].dot(np.array([[0.01, 0.01, 0.01, 0.01], [0.01, 0.01, 0.01, 0.01]])*i)\n",
    "        By = Bc + all_diag_combination(2)[l].dot(np.array([[0.01], [0.01]])*i)\n",
    "    \n",
    "        Lp_prob += v.dot(Cc + (np.array([[0.01, 0.01, 0.01, 0.01], [0.01, 0.01, 0.01, 0.01]])*i).transpose())[0][0]\n",
    "        Lp_prob += Aye[0].dot(v.transpose())[0] >= By[0][0]\n",
    "        Lp_prob += Aye[0].dot(v.transpose())[0] <= By[0][0]\n",
    "        Lp_prob += Aye[1].dot(v.transpose())[0] >= By[1][0]\n",
    "        Lp_prob += Aye[1].dot(v.transpose())[0] <= By[1][0]\n",
    "\n",
    "        #print(Lp_prob)\n",
    "        status = Lp_prob.solve()\n",
    "        Sol_u.append(p.value(Lp_prob.objective))\n",
    "        #print('i =',i, ': %.4f' %(p.value(Lp_prob.objective)))\n",
    "    #print('i =',i, ': %.4f' %(p.value(lp_prob.objective)))\n",
    "    print('i =',i, ': LB = %.4f' %(p.value(lp_prob.objective)) , ', UB = %.4f' %(max(Sol_u)))\n",
    "v"
   ]
  },
  {
   "cell_type": "code",
   "execution_count": null,
   "metadata": {},
   "outputs": [],
   "source": []
  }
 ],
 "metadata": {
  "kernelspec": {
   "display_name": "Python 3",
   "language": "python",
   "name": "python3"
  },
  "language_info": {
   "codemirror_mode": {
    "name": "ipython",
    "version": 3
   },
   "file_extension": ".py",
   "mimetype": "text/x-python",
   "name": "python",
   "nbconvert_exporter": "python",
   "pygments_lexer": "ipython3",
   "version": "3.7.9"
  }
 },
 "nbformat": 4,
 "nbformat_minor": 4
}
